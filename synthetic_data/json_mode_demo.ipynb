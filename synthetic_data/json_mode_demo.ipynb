{
 "cells": [
  {
   "cell_type": "code",
   "execution_count": 13,
   "id": "65a90b99",
   "metadata": {},
   "outputs": [],
   "source": [
    "import os\n",
    "from pydantic import BaseModel\n",
    "import json\n",
    "\n",
    "class Movie(BaseModel):\n",
    "    title: str\n",
    "    year: int\n",
    "    director: str\n",
    "    genres: list[str]\n"
   ]
  },
  {
   "cell_type": "code",
   "execution_count": 14,
   "id": "bbe4b1ec",
   "metadata": {},
   "outputs": [
    {
     "name": "stdout",
     "output_type": "stream",
     "text": [
      "{\n",
      "    \"title\": \"Temporal Archivist\",\n",
      "    \"year\": 2025,\n",
      "    \"director\": \"Evelyn Reed\",\n",
      "    \"genres\": [\n",
      "        \"Science Fiction\",\n",
      "        \"Adventure\",\n",
      "        \"History\",\n",
      "        \"Mystery\"\n",
      "    ]\n",
      "}\n"
     ]
    }
   ],
   "source": [
    "from google import genai\n",
    "\n",
    "client = genai.Client(api_key=os.environ[\"GEMINI_API_KEY\"])\n",
    "\n",
    "response = client.models.generate_content(\n",
    "    model=\"gemini-2.5-flash\",\n",
    "    # model=\"gemma-3-27b-it\", # Will not work, Gemma doesn't support JSON mode\n",
    "    contents=\"Generate a fictional movie about a time-traveling historian.\",\n",
    "    config={\n",
    "        \"response_mime_type\": \"application/json\",\n",
    "        \"response_schema\": Movie,\n",
    "    }\n",
    ")\n",
    "\n",
    "if response and response.text:\n",
    "    print(json.dumps(json.loads(response.text), indent=4))"
   ]
  },
  {
   "cell_type": "code",
   "execution_count": 12,
   "id": "4f0922c7",
   "metadata": {},
   "outputs": [
    {
     "name": "stdout",
     "output_type": "stream",
     "text": [
      "ChatCompletionMessage(content='{\\n  \"movie\": {\\n    \"title\": \"The Chronos Weaver\",\\n    \"genre\": \"Sci-Fi, Historical, Thriller\",\\n    \"logline\": \"A meticulous time-traveling historian, obsessed with verifying the minutiae of forgotten moments, accidentally erases a crucial event from existence, forcing him to race against time to restore the past before his present is undone.\",\\n    \"plot_summary\": \"Dr. Elias Vance is a brilliant but socially reclusive historian working for the clandestine \\'Temporal Integrity Bureau\\' (TIB). His job is to use advanced Chronos-tech to passively observe historical events, ensuring the accuracy of humanity\\'s past records. Elias\\'s current project is to verify an obscure, fleeting interaction between two minor figures in 16th-century Venice, believed to be the true catalyst for a significant artistic movement. During his observation jump, a minor power fluctuation in his Chrono-suit causes a momentary disorientation, and he inadvertently displaces a small, crucial statue from a niche on a building. \\\\n\\\\nReturning to his present, Elias notices subtle, then increasingly alarming, discrepancies. The artistic movement he was studying never flourished, leading to a domino effect of historical divergence. The present world is darker, dominated by a pervasive, joyless totalitarian regime that stifled creativity centuries ago – a direct result of the statue\\'s absence preventing a crucial conversation between the two historical figures. Elias realizes his seemingly insignificant act created a catastrophic paradox. \\\\n\\\\nHe must return to 16th-century Venice, not just to observe, but to intervene and replace the statue. However, the TIB\\'s strict non-interference protocols mean his desperate plan is highly illegal and would trigger their \\'Temporal Correction\\' units. With his mentor, Director Anya Sharma, hot on his trail, Elias must navigate the dangers of Renaissance Venice, evade TIB enforcers, and find a way to reintroduce the statue without creating further, irreversible damage, all while the collapsing alternate timeline threatens to erase him completely.\",\\n    \"main_characters\": [\\n      {\\n        \"name\": \"Dr. Elias Vance\",\\n        \"description\": \"A brilliant but socially awkward and obsessive historian, determined to fix his mistake.\"\\n      },\\n      {\\n        \"name\": \"Director Anya Sharma\",\\n        \"description\": \"Elias\\'s stern but pragmatic mentor at the TIB, torn between upholding protocol and understanding Elias\\'s desperation.\"\\n      },\\n      {\\n        \"name\": \"Silas Vance (Alternate Timeline)\",\\n        \"description\": \"A hardened, cynical version of Elias from the corrupted timeline, serving as a warning of what\\'s at stake.\"\\n      }\\n    ],\\n    \"director\": \"Christopher Nolan\",\\n    \"runtime_minutes\": 155\\n  }\\n}', refusal=None, role='assistant', audio=None, function_call=None, tool_calls=None)\n"
     ]
    }
   ],
   "source": [
    "from openai import OpenAI\n",
    "\n",
    "client = OpenAI(\n",
    "    api_key=os.environ[\"GEMINI_API_KEY\"],\n",
    "    base_url=\"https://generativelanguage.googleapis.com/v1beta/\",\n",
    ")\n",
    "\n",
    "# print(client.chat.completions.__dict__)\n",
    "\n",
    "\n",
    "# ...existing code...\n",
    "response = client.chat.completions.create(\n",
    "    model=\"gemini-2.5-flash\",\n",
    "    messages=[\n",
    "        {\"role\": \"user\", \"content\": \"Generate a fictional movie about a time-traveling historian.\"}\n",
    "    ],\n",
    "    response_format={\"type\": \"json_object\"},\n",
    ")\n",
    "\n",
    "# if response and response.choices:\n",
    "#     # Parse the JSON content using your Movie model\n",
    "#     import json\n",
    "#     data = json.loads(response.choices[0].message.content)\n",
    "#     movie = Movie(**data)\n",
    "#     print(movie)\n",
    "# # ...existing code...\n",
    "\n",
    "# response = client.chat.completions.parse(\n",
    "#     model=\"gemini-2.5-flash\",\n",
    "#     # model=\"gemma-3-27b-it\",  # Will not work, Gemma doesn't support JSON mode\n",
    "#     messages=[\n",
    "#         {\"role\": \"user\", \"content\": \"Generate a fictional movie about a time-traveling historian.\"}\n",
    "#     ],\n",
    "#     response_format=Movie,\n",
    "# )\n",
    "\n",
    "if response and response.choices:\n",
    "    print(response.choices[0].message)"
   ]
  },
  {
   "cell_type": "code",
   "execution_count": null,
   "id": "84a8b9fa",
   "metadata": {},
   "outputs": [],
   "source": []
  }
 ],
 "metadata": {
  "kernelspec": {
   "display_name": "venv",
   "language": "python",
   "name": "python3"
  },
  "language_info": {
   "codemirror_mode": {
    "name": "ipython",
    "version": 3
   },
   "file_extension": ".py",
   "mimetype": "text/x-python",
   "name": "python",
   "nbconvert_exporter": "python",
   "pygments_lexer": "ipython3",
   "version": "3.10.0"
  }
 },
 "nbformat": 4,
 "nbformat_minor": 5
}
